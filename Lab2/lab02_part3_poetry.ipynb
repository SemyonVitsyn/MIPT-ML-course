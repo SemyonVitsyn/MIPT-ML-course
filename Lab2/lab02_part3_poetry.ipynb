{
  "cells": [
    {
      "cell_type": "markdown",
      "metadata": {
        "id": "6aKR6YxfGO5u"
      },
      "source": [
        "## Lab 2"
      ]
    },
    {
      "cell_type": "markdown",
      "metadata": {
        "id": "_JP5766fGO5y"
      },
      "source": [
        "### Part 3. Poetry generation\n",
        "\n",
        "Let's try to generate some poetry using RNNs.\n",
        "\n",
        "You have several choices here:\n",
        "\n",
        "* The Shakespeare sonnets, file `sonnets.txt` available in the notebook directory.\n",
        "\n",
        "* Роман в стихах \"Евгений Онегин\" Александра Сергеевича Пушкина. В предобработанном виде доступен по [ссылке](https://github.com/attatrol/data_sources/blob/master/onegin.txt).\n",
        "\n",
        "* Some other text source, if it will be approved by the course staff.\n",
        "\n",
        "Text generation can be designed in several steps:\n",
        "    \n",
        "1. Data loading.\n",
        "2. Dictionary generation.\n",
        "3. Data preprocessing.\n",
        "4. Model (neural network) training.\n",
        "5. Text generation (model evaluation).\n"
      ]
    },
    {
      "cell_type": "code",
      "execution_count": 1,
      "metadata": {
        "id": "mMbnyHfPGO50"
      },
      "outputs": [],
      "source": [
        "import string\n",
        "import os"
      ]
    },
    {
      "cell_type": "markdown",
      "metadata": {
        "id": "g4IVhLLpGO52"
      },
      "source": [
        "### Data loading: Shakespeare"
      ]
    },
    {
      "cell_type": "markdown",
      "metadata": {
        "id": "oh0Xfu4QGO53"
      },
      "source": [
        "Shakespeare sonnets are awailable at this [link](http://www.gutenberg.org/ebooks/1041?msg=welcome_stranger). In addition, they are stored in the same directory as this notebook (`sonnetes.txt`). Simple preprocessing is already done for you in the next cell: all technical info is dropped."
      ]
    },
    {
      "cell_type": "code",
      "execution_count": null,
      "metadata": {
        "collapsed": true,
        "id": "jC3SHZ7eGO54"
      },
      "outputs": [],
      "source": [
        "if not os.path.exists('sonnets.txt'):\n",
        "    !wget https://raw.githubusercontent.com/girafe-ai/ml-course/22f_basic/homeworks_basic/lab02_deep_learning/sonnets.txt\n",
        "\n",
        "with open('sonnets.txt', 'r') as iofile:\n",
        "    text = iofile.readlines()\n",
        "\n",
        "TEXT_START = 45\n",
        "TEXT_END = -368\n",
        "text = text[TEXT_START : TEXT_END]\n",
        "assert len(text) == 2616"
      ]
    },
    {
      "cell_type": "markdown",
      "metadata": {
        "id": "ej5WlDOxGO56"
      },
      "source": [
        "In opposite to the in-class practice, this time we want to predict complex text. Let's reduce the complexity of the task and lowercase all the symbols.\n",
        "\n",
        "Now variable `text` is a list of strings. Join all the strings into one and lowercase it."
      ]
    },
    {
      "cell_type": "code",
      "execution_count": null,
      "metadata": {
        "id": "pUe7Zi_EGO57",
        "outputId": "19bb683e-5492-4c47-99d1-95caf38cd1aa"
      },
      "outputs": [
        {
          "name": "stdout",
          "output_type": "stream",
          "text": [
            "OK!\n"
          ]
        }
      ],
      "source": [
        "# Join all the strings into one and lowercase it\n",
        "# Put result into variable text.\n",
        "\n",
        "text_lines = text\n",
        "text = \"\".join([line.lower() for line in text])\n",
        "\n",
        "assert len(text) == 100225, 'Are you sure you have concatenated all the strings?'\n",
        "assert not any([x in set(text) for x in string.ascii_uppercase]), 'Uppercase letters are present'\n",
        "print('OK!')"
      ]
    },
    {
      "cell_type": "markdown",
      "metadata": {
        "id": "T9WGcW13GO58"
      },
      "source": [
        "### Data loading: \"Евгений Онегин\"\n"
      ]
    },
    {
      "cell_type": "code",
      "execution_count": 2,
      "metadata": {
        "colab": {
          "base_uri": "https://localhost:8080/"
        },
        "id": "czxlJG1gGO5-",
        "outputId": "53a5f2f2-f611-47d8-fccb-2ef6f5bd0430"
      },
      "outputs": [
        {
          "output_type": "stream",
          "name": "stdout",
          "text": [
            "--2024-01-02 14:47:50--  https://raw.githubusercontent.com/attatrol/data_sources/master/onegin.txt\n",
            "Resolving raw.githubusercontent.com (raw.githubusercontent.com)... 185.199.108.133, 185.199.110.133, 185.199.111.133, ...\n",
            "Connecting to raw.githubusercontent.com (raw.githubusercontent.com)|185.199.108.133|:443... connected.\n",
            "HTTP request sent, awaiting response... 200 OK\n",
            "Length: 262521 (256K) [text/plain]\n",
            "Saving to: ‘onegin.txt’\n",
            "\n",
            "onegin.txt          100%[===================>] 256.37K  --.-KB/s    in 0.02s   \n",
            "\n",
            "2024-01-02 14:47:50 (13.5 MB/s) - ‘onegin.txt’ saved [262521/262521]\n",
            "\n"
          ]
        }
      ],
      "source": [
        "!wget https://raw.githubusercontent.com/attatrol/data_sources/master/onegin.txt\n",
        "\n",
        "with open('onegin.txt', 'r') as iofile:\n",
        "    text = iofile.readlines()\n",
        "\n",
        "text = [x.replace('\\t\\t', '') for x in text]"
      ]
    },
    {
      "cell_type": "markdown",
      "metadata": {
        "id": "4Mb-MpNQGO6A"
      },
      "source": [
        "In opposite to the in-class practice, this time we want to predict complex text. Let's reduce the complexity of the task and lowercase all the symbols.\n",
        "\n",
        "Now variable `text` is a list of strings. Join all the strings into one and lowercase it."
      ]
    },
    {
      "cell_type": "code",
      "execution_count": 3,
      "metadata": {
        "id": "Hiz2e8ZxGO6B"
      },
      "outputs": [],
      "source": [
        "# Join all the strings into one and lowercase it\n",
        "# Put result into variable text.\n",
        "\n",
        "text = \"\".join([x.replace('\\t\\t', '').lower() for x in text])\n"
      ]
    },
    {
      "cell_type": "markdown",
      "metadata": {
        "id": "oXSTq4T0GO6C"
      },
      "source": [
        "Put all the characters, that you've seen in the text, into variable `tokens`."
      ]
    },
    {
      "cell_type": "code",
      "execution_count": 4,
      "metadata": {
        "id": "V-I3LGHvGO6C"
      },
      "outputs": [],
      "source": [
        "tokens = sorted(set(text))"
      ]
    },
    {
      "cell_type": "markdown",
      "metadata": {
        "id": "Ls4EKCKNGO6D"
      },
      "source": [
        "Create dictionary `token_to_idx = {<char>: <index>}` and dictionary `idx_to_token = {<index>: <char>}`"
      ]
    },
    {
      "cell_type": "code",
      "execution_count": 5,
      "metadata": {
        "collapsed": true,
        "id": "6vDElipMGO6D"
      },
      "outputs": [],
      "source": [
        "# dict <index>:<char>\n",
        "token_to_idx = dict(zip(tokens, range(len(tokens))))\n",
        "\n",
        "# dict <char>:<index>\n",
        "idx_to_token = dict(zip(token_to_idx.values(), token_to_idx.keys()))"
      ]
    },
    {
      "cell_type": "code",
      "source": [
        "import numpy as np\n",
        "import torch, torch.nn as nn\n",
        "import torch.nn.functional as F\n",
        "import time\n",
        "import matplotlib.pyplot as plt\n",
        "\n",
        "device = torch.device('cuda') if torch.cuda.is_available() else torch.device('cpu')\n",
        "print('{} device is available'.format(device))"
      ],
      "metadata": {
        "colab": {
          "base_uri": "https://localhost:8080/"
        },
        "id": "kBXt5sjNIUyL",
        "outputId": "c36998af-4d5f-42c1-8468-b813a6b1a794"
      },
      "execution_count": 6,
      "outputs": [
        {
          "output_type": "stream",
          "name": "stdout",
          "text": [
            "cuda device is available\n"
          ]
        }
      ]
    },
    {
      "cell_type": "markdown",
      "metadata": {
        "id": "_098ebTXGO6D"
      },
      "source": [
        "*Comment: in this task we have only 38 different tokens, so let's use one-hot encoding.*"
      ]
    },
    {
      "cell_type": "markdown",
      "metadata": {
        "id": "1EOFlpX1GO6E"
      },
      "source": [
        "### Building the model"
      ]
    },
    {
      "cell_type": "markdown",
      "metadata": {
        "id": "VMVcm7zTGO6E"
      },
      "source": [
        "Now we want to build and train recurrent neural net which would be able to something similar to Shakespeare's poetry.\n",
        "\n",
        "Let's use vanilla RNN, similar to the one created during the lesson."
      ]
    },
    {
      "cell_type": "code",
      "execution_count": 7,
      "metadata": {
        "collapsed": true,
        "id": "6DQABGhqGO6F"
      },
      "outputs": [],
      "source": [
        "class RNN(nn.Module):\n",
        "    def __init__(self, num_tokens=len(tokens), embedding_size=16, rnn_num_units=64):\n",
        "        super(self.__class__,self).__init__()\n",
        "        self.num_units = rnn_num_units\n",
        "\n",
        "        self.embedding = nn.Embedding(num_tokens, embedding_size)\n",
        "        self.rnn_update = nn.Linear(embedding_size + rnn_num_units, rnn_num_units)\n",
        "        self.rnn_to_logits = nn.Linear(rnn_num_units, num_tokens)\n",
        "\n",
        "    def forward(self, x, h_prev):\n",
        "        x_emb = self.embedding(x)\n",
        "        x_and_h = torch.cat([x_emb, h_prev], dim=-1)\n",
        "\n",
        "        h_next = self.rnn_update(x_and_h)\n",
        "        h_next = torch.tanh(h_next)\n",
        "        logits = self.rnn_to_logits(h_next)\n",
        "\n",
        "        return h_next, F.log_softmax(logits, -1)\n",
        "\n",
        "    def initial_state(self, batch_size):\n",
        "        return torch.zeros(batch_size, self.num_units, requires_grad=True).to(device)"
      ]
    },
    {
      "cell_type": "code",
      "source": [
        "text_encoded = [token_to_idx[x] for x in text]\n",
        "\n",
        "batch_size = 256\n",
        "seq_length = 100\n",
        "start_column = np.zeros((batch_size, 1), dtype=int)\n",
        "\n",
        "def generate_chunk():\n",
        "    global text_encoded, start_column, batch_size, seq_length\n",
        "\n",
        "    start_index = np.random.randint(0, len(text_encoded) - batch_size*seq_length - 1)\n",
        "    data = np.array(text_encoded[start_index:start_index + batch_size*seq_length]).reshape((batch_size, -1))\n",
        "    yield np.hstack((start_column, data))\n",
        "\n",
        "def train(model, batch, optimizer, criterion):\n",
        "    model.zero_grad()\n",
        "    hidden = model.initial_state(batch_size)\n",
        "    logprobs = []\n",
        "\n",
        "    for x_t in batch.transpose(0,1):\n",
        "        hidden, logits = model(x_t, hidden)\n",
        "        logprobs.append(logits)\n",
        "\n",
        "    logprobs = torch.stack(logprobs, dim=1)\n",
        "    pred = logprobs[:, :-1]\n",
        "    actual_tokens = batch[:, 1:]\n",
        "\n",
        "    loss = criterion(\n",
        "        pred.contiguous().view(-1, len(tokens)),\n",
        "        actual_tokens.contiguous().view(-1)\n",
        "    )\n",
        "\n",
        "    loss.backward()\n",
        "    optimizer.step()\n",
        "\n",
        "    return loss"
      ],
      "metadata": {
        "id": "dt5dLiJvJ29L"
      },
      "execution_count": 8,
      "outputs": []
    },
    {
      "cell_type": "code",
      "source": [
        "\n",
        "\n",
        "n_epochs = 30000\n",
        "\n",
        "model = RNN()\n",
        "optimizer = torch.optim.Adam(model.parameters(), lr=3e-4)\n",
        "criterion = nn.CrossEntropyLoss()\n",
        "\n",
        "loss_history = []\n",
        "start_time = time.time()\n",
        "\n",
        "model.to(device)\n",
        "model.train()\n",
        "\n",
        "for epoch in range(1, n_epochs + 1):\n",
        "    batch = torch.tensor(next(generate_chunk()), dtype=torch.int64)\n",
        "    loss = train(model, batch.to(device), optimizer, criterion)\n",
        "    loss_history.append(loss.cpu().detach().numpy())\n",
        "\n",
        "time_elapsed = time.time() - start_time\n",
        "print('Training complete in {:.0f}m {:.0f}s'.format(time_elapsed // 60, time_elapsed % 60))"
      ],
      "metadata": {
        "colab": {
          "base_uri": "https://localhost:8080/"
        },
        "id": "QiYGPeQ4KHVT",
        "outputId": "14acc19f-f855-4962-d8bd-dbf8b67d1f89"
      },
      "execution_count": null,
      "outputs": [
        {
          "output_type": "stream",
          "name": "stdout",
          "text": [
            "Training complete in 26m 12s\n"
          ]
        }
      ]
    },
    {
      "cell_type": "markdown",
      "metadata": {
        "id": "Vc_Or_DkGO6F"
      },
      "source": [
        "Plot the loss function (axis X: number of epochs, axis Y: loss function)."
      ]
    },
    {
      "cell_type": "code",
      "execution_count": null,
      "metadata": {
        "colab": {
          "base_uri": "https://localhost:8080/",
          "height": 430
        },
        "id": "zTXDddbTGO6F",
        "outputId": "d508a0f6-4c43-4da0-d671-d2cd1bbbdcc1"
      },
      "outputs": [
        {
          "output_type": "display_data",
          "data": {
            "text/plain": [
              "<Figure size 640x480 with 1 Axes>"
            ],
            "image/png": "[encoded data removed]"
          },
          "metadata": {}
        }
      ],
      "source": [
        "plt.plot(loss_history,label='loss')\n",
        "plt.show()"
      ]
    },
    {
      "cell_type": "code",
      "source": [
        "torch.save(model, 'rnn')"
      ],
      "metadata": {
        "id": "QNWGSJYlUraE"
      },
      "execution_count": null,
      "outputs": []
    },
    {
      "cell_type": "code",
      "execution_count": null,
      "metadata": {
        "id": "6aCFBVnoGO6G"
      },
      "outputs": [],
      "source": [
        "def generate_sample(model, seed_phrase=\" мой дядя \", max_length=500, temperature=1.0, device=device):\n",
        "    '''\n",
        "    ### Disclaimer: this is an example function for text generation.\n",
        "    ### You can either adapt it in your code or create your own function\n",
        "\n",
        "    The function generates text given a phrase of length at least SEQ_LENGTH.\n",
        "    :param seed_phrase: prefix characters. The RNN is asked to continue the phrase\n",
        "    :param max_length: maximum output length, including seed_phrase\n",
        "    :param temperature: coefficient for sampling.  higher temperature produces more chaotic outputs,\n",
        "        smaller temperature converges to the single most likely output.\n",
        "\n",
        "    Be careful with the model output. This model waits logits (not probabilities/log-probabilities)\n",
        "    of the next symbol.\n",
        "    '''\n",
        "\n",
        "    x_sequence = [token_to_idx[token] for token in seed_phrase]\n",
        "    x_sequence = torch.tensor([x_sequence], dtype=torch.int64).to(device)\n",
        "    hidden = model.initial_state(batch_size=1)\n",
        "    model.eval()\n",
        "\n",
        "    #feed the seed phrase, if any\n",
        "    for i in range(len(seed_phrase) - 1):\n",
        "        hidden, _ = model(x_sequence[:, i], hidden)\n",
        "\n",
        "    #start generating\n",
        "    for _ in range(max_length - len(seed_phrase)):\n",
        "        hidden, logp_next = model(x_sequence[:, -1], hidden)\n",
        "        # Be really careful here with the model output\n",
        "        p_next = F.softmax(logp_next / temperature, dim=-1).data.cpu().numpy()[0]\n",
        "\n",
        "        # sample next token and push it back into x_sequence\n",
        "        next_ix = np.random.choice(len(tokens), p=p_next)\n",
        "        next_ix = torch.tensor([[next_ix]], dtype=torch.int64, device=device)\n",
        "        x_sequence = torch.cat([x_sequence, next_ix], dim=1)\n",
        "\n",
        "    return ''.join([tokens[ix] for ix in x_sequence.cpu().data.numpy()[0]])"
      ]
    },
    {
      "cell_type": "code",
      "execution_count": null,
      "metadata": {
        "colab": {
          "base_uri": "https://localhost:8080/"
        },
        "id": "_OSETRNUGO6H",
        "outputId": "5641ff71-6b8f-48ca-e8af-ffd60151113a"
      },
      "outputs": [
        {
          "output_type": "stream",
          "name": "stdout",
          "text": [
            " мой дядя своем вы доброй так счастливый не потом,\n",
            "сердце поченный с страсти в полной\n",
            "сама со сользы тайну, странный,\n",
            "и последа на полной\n",
            "и в подни волненье дворить в нем покой.\n",
            "\n",
            "\n",
            "\n",
            "xxxi\n",
            "\n",
            "«постар.\n",
            "толка,\n",
            "и старины\n",
            "он старины не с порум в из все в ней не рода,\n",
            "и не за тольною пора после не мой;\n",
            "бой верний тебя старышать все должно моя полно красать в нем страшной простите в семность не простом\n",
            "не в старико признаться месть страней,\n",
            "и веселой постали добростный порой с простить она всем ольги всё н\n"
          ]
        }
      ],
      "source": [
        "# An example of generated text.\n",
        "print(generate_sample(model, temperature=0.4))"
      ]
    },
    {
      "cell_type": "markdown",
      "metadata": {
        "id": "KtR1qyYtGO6I"
      },
      "source": [
        "### More poetic model\n",
        "\n",
        "Let's use LSTM instead of vanilla RNN and compare the results."
      ]
    },
    {
      "cell_type": "code",
      "source": [
        "class LSTM(nn.Module):\n",
        "    def __init__(self, num_tokens=len(token_to_idx), embedding_size=16, rnn_num_units=64):\n",
        "        super(self.__class__, self).__init__()\n",
        "        self.num_units = rnn_num_units\n",
        "\n",
        "        self.embedding = nn.Embedding(num_tokens, embedding_size)\n",
        "        self.lstm = nn.LSTMCell(embedding_size, rnn_num_units)\n",
        "        self.f = nn.Linear(rnn_num_units, num_tokens)\n",
        "\n",
        "    def forward(self, x, h_prev, c_prev):\n",
        "        x_emb = self.embedding(x)\n",
        "        h, c = self.lstm(x_emb, (h_prev, c_prev))\n",
        "        out = self.f(h)\n",
        "\n",
        "        return h, c, F.log_softmax(out, -1)\n",
        "\n",
        "    def initial_state(self, batch_size):\n",
        "        return (torch.zeros(batch_size, self.num_units, requires_grad=True).to(device),\n",
        "               torch.zeros(batch_size, self.num_units, requires_grad=True).to(device))"
      ],
      "metadata": {
        "id": "3f7AEIpSo0Oi"
      },
      "execution_count": 9,
      "outputs": []
    },
    {
      "cell_type": "code",
      "source": [
        "def train_lstm(model, batch, optimizer, criterion):\n",
        "    model.zero_grad()\n",
        "    hidden, cell = model.initial_state(batch_size)\n",
        "    logprobs = []\n",
        "\n",
        "    for x_t in batch.transpose(0,1):\n",
        "        hidden, cell, logits = model(x_t, hidden, cell)\n",
        "        logprobs.append(logits)\n",
        "\n",
        "    logprobs = torch.stack(logprobs, dim=1)\n",
        "    pred = logprobs[:, :-1]\n",
        "    actual_tokens = batch[:, 1:]\n",
        "\n",
        "    loss = criterion(\n",
        "        pred.contiguous().view(-1, len(tokens)),\n",
        "        actual_tokens.contiguous().view(-1)\n",
        "    )\n",
        "\n",
        "    loss.backward()\n",
        "    optimizer.step()\n",
        "\n",
        "    return loss"
      ],
      "metadata": {
        "id": "mfa6D9rXo3UC"
      },
      "execution_count": 10,
      "outputs": []
    },
    {
      "cell_type": "code",
      "source": [
        "\n",
        "\n",
        "n_epochs = 30000\n",
        "\n",
        "model = LSTM()\n",
        "optimizer = torch.optim.Adam(model.parameters(), lr=3e-4)\n",
        "criterion = nn.CrossEntropyLoss()\n",
        "\n",
        "loss_history = []\n",
        "start_time = time.time()\n",
        "\n",
        "model.to(device)\n",
        "model.train()\n",
        "\n",
        "for epoch in range(1, n_epochs + 1):\n",
        "    batch = torch.tensor(next(generate_chunk()), dtype=torch.int64)\n",
        "    loss = train_lstm(model, batch.to(device), optimizer, criterion)\n",
        "    loss_history.append(loss.cpu().detach().numpy())\n",
        "\n",
        "time_elapsed = time.time() - start_time\n",
        "print('Training complete in {:.0f}m {:.0f}s'.format(time_elapsed // 60, time_elapsed % 60))"
      ],
      "metadata": {
        "colab": {
          "base_uri": "https://localhost:8080/"
        },
        "id": "Wn-bWD7Yo5t2",
        "outputId": "38bd82e9-4161-401c-cdd4-8ef941ce6dac"
      },
      "execution_count": 11,
      "outputs": [
        {
          "output_type": "stream",
          "name": "stdout",
          "text": [
            "Training complete in 31m 21s\n"
          ]
        }
      ]
    },
    {
      "cell_type": "markdown",
      "metadata": {
        "id": "4XhqxKQvGO6I"
      },
      "source": [
        "Plot the loss function of the number of epochs. Does the final loss become better?"
      ]
    },
    {
      "cell_type": "code",
      "execution_count": 12,
      "metadata": {
        "collapsed": true,
        "id": "zc1azyG7GO6J",
        "colab": {
          "base_uri": "https://localhost:8080/",
          "height": 430
        },
        "outputId": "97f7fbee-094d-413d-ef70-55bc42e28119"
      },
      "outputs": [
        {
          "output_type": "display_data",
          "data": {
            "text/plain": [
              "<Figure size 640x480 with 1 Axes>"
            ],
            "image/png": "[encoded data removed]"
          },
          "metadata": {}
        }
      ],
      "source": [
        "plt.plot(loss_history,label='loss')\n",
        "plt.show()"
      ]
    },
    {
      "cell_type": "markdown",
      "metadata": {
        "id": "VGbnuZmUGO6J"
      },
      "source": [
        "Generate text using the trained net with different `temperature` parameter: `[0.1, 0.2, 0.5, 1.0, 2.0]`.\n",
        "\n",
        "Evaluate the results visually, try to interpret them."
      ]
    },
    {
      "cell_type": "code",
      "execution_count": 13,
      "metadata": {
        "collapsed": true,
        "id": "AlLwx8tsGO6J"
      },
      "outputs": [],
      "source": [
        "# Text generation with different temperature values here\n",
        "\n",
        "def generate_sample(model, seed_phrase=\" мой дядя \", max_length=500, temperature=1.0, device=device):\n",
        "    x_sequence = [token_to_idx[token] for token in seed_phrase]\n",
        "    x_sequence = torch.tensor([x_sequence], dtype=torch.int64).to(device)\n",
        "    hidden, cell = model.initial_state(batch_size=1)\n",
        "    model.eval()\n",
        "\n",
        "    #feed the seed phrase, if any\n",
        "    for i in range(len(seed_phrase) - 1):\n",
        "        hidden, cell, _ = model(x_sequence[:, i], hidden, cell)\n",
        "\n",
        "    #start generating\n",
        "    for _ in range(max_length - len(seed_phrase)):\n",
        "        hidden, cell, logp_next = model(x_sequence[:, -1], hidden, cell)\n",
        "        # Be really careful here with the model output\n",
        "        p_next = F.softmax(logp_next / temperature, dim=-1).data.cpu().numpy()[0]\n",
        "\n",
        "        # sample next token and push it back into x_sequence\n",
        "        next_ix = np.random.choice(len(tokens), p=p_next)\n",
        "        next_ix = torch.tensor([[next_ix]], dtype=torch.int64, device=device)\n",
        "        x_sequence = torch.cat([x_sequence, next_ix], dim=1)\n",
        "\n",
        "    return ''.join([tokens[ix] for ix in x_sequence.cpu().data.numpy()[0]])"
      ]
    },
    {
      "cell_type": "code",
      "source": [
        "for temp in [0.1, 0.2, 0.5, 1.0, 2.0]:\n",
        "    print(f'Temperature = {temp}')\n",
        "    print(generate_sample(model, seed_phrase=\" мой дядя \", max_length=100, temperature=temp))\n",
        "    print(\"-\"*100)"
      ],
      "metadata": {
        "colab": {
          "base_uri": "https://localhost:8080/"
        },
        "id": "ciw6aRihpBmA",
        "outputId": "bf1b4116-2272-463a-bfe1-6a556523ed6f"
      },
      "execution_count": 16,
      "outputs": [
        {
          "output_type": "stream",
          "name": "stdout",
          "text": [
            "Temperature = 0.1\n",
            " мой дядя —\n",
            "всё в сердце темно в совета в сердца,\n",
            "под ней под сердце постелься воскрыть,\n",
            "и странные \n",
            "----------------------------------------------------------------------------------------------------\n",
            "Temperature = 0.2\n",
            " мой дядя —\n",
            "всё в горов и не старины,\n",
            "и в сердце подруга с ней,\n",
            "и старинных слез ленский не страте\n",
            "и\n",
            "----------------------------------------------------------------------------------------------------\n",
            "Temperature = 0.5\n",
            " мой дядя дам\n",
            "сердечный страстной двор,\n",
            "поедется был ремою долги\n",
            "мечтой сон сердцем она.\n",
            "\n",
            "\n",
            "\n",
            "xxxii\n",
            "\n",
            "т\n",
            "----------------------------------------------------------------------------------------------------\n",
            "Temperature = 1.0\n",
            " мой дядя —\n",
            "всё назнуч, мой, курять, черти овно\n",
            "завсеков коранька пришувскае.\n",
            "но кутой, разомноческв\n",
            "----------------------------------------------------------------------------------------------------\n",
            "Temperature = 2.0\n",
            " мой дядя с.\n",
            "прачарканаями преесё в муею;\n",
            "ищка кщет: в гогодпыдрясь.\n",
            "счою. гретчись думовы лас лет,\n",
            "\n",
            "----------------------------------------------------------------------------------------------------\n"
          ]
        }
      ]
    },
    {
      "cell_type": "markdown",
      "metadata": {
        "id": "WltDlzjVGO6K"
      },
      "source": [
        "### Saving and loading models"
      ]
    },
    {
      "cell_type": "markdown",
      "metadata": {
        "id": "ZoX6ev19GO6K"
      },
      "source": [
        "Save the model to the disk, then load it and generate text. Examples are available [here](https://pytorch.org/tutorials/beginner/saving_loading_models.html])."
      ]
    },
    {
      "cell_type": "code",
      "execution_count": 26,
      "metadata": {
        "collapsed": true,
        "id": "n-GfDhNMGO6L",
        "colab": {
          "base_uri": "https://localhost:8080/"
        },
        "outputId": "00272e64-a90a-44ed-fb84-e3b543bb8bc8"
      },
      "outputs": [
        {
          "output_type": "stream",
          "name": "stdout",
          "text": [
            " мой дядя самых честных друг,\n",
            "он так танг пустал не нет.\n",
            "погорел он и полы забца,\n",
            "предаме прелестель в казанов;\n",
            "кокова к ней это жизнь в бугой!»\n",
            "\n",
            "\n",
            "\n",
            "viii\n",
            "\n",
            "томан, быть, гибной ленский;\n",
            "он он, пуселись том.\n",
            "\n",
            "\n",
            "\n",
            "xxxvi\n",
            "\n",
            "предверпит и время не знаши!\n",
            "как одишу тремя в дудих\n",
            "и что не достокогих.\n",
            "всё в мостою\n"
          ]
        }
      ],
      "source": [
        "torch.save(model, 'lstm')\n",
        "model = torch.load('lstm')\n",
        "\n",
        "print(generate_sample(model, seed_phrase=\" мой дядя самых честных \", max_length=300, temperature=0.8))"
      ]
    },
    {
      "cell_type": "markdown",
      "metadata": {
        "id": "14WmF8n1GO6L"
      },
      "source": [
        "### References\n",
        "1. <a href='http://karpathy.github.io/2015/05/21/rnn-effectiveness/'> Andrew Karpathy blog post about RNN. </a>\n",
        "There are several examples of genration: Shakespeare texts, Latex formulas, Linux Sourse Code and children names.\n",
        "2. <a href='https://github.com/karpathy/char-rnn'> Repo with char-rnn code </a>\n",
        "3. Cool repo with PyTorch examples: [link](https://github.com/spro/practical-pytorch`)"
      ]
    }
  ],
  "metadata": {
    "anaconda-cloud": {},
    "kernelspec": {
      "display_name": "Python 3",
      "name": "python3"
    },
    "language_info": {
      "codemirror_mode": {
        "name": "ipython",
        "version": 3
      },
      "file_extension": ".py",
      "mimetype": "text/x-python",
      "name": "python",
      "nbconvert_exporter": "python",
      "pygments_lexer": "ipython3",
      "version": "3.10.12"
    },
    "colab": {
      "provenance": [],
      "gpuType": "T4"
    },
    "accelerator": "GPU"
  },
  "nbformat": 4,
  "nbformat_minor": 0
}