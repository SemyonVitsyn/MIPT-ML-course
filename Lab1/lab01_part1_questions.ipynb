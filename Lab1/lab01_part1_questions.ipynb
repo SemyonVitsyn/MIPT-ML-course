{
 "cells": [
  {
   "cell_type": "markdown",
   "metadata": {},
   "source": [
    "*Credits: materials from this notebook belong to YSDA [Practical DL](https://github.com/yandexdataschool/Practical_DL) course. Special thanks for making them available online.*"
   ]
  },
  {
   "cell_type": "markdown",
   "metadata": {},
   "source": [
    "# Lab assignment №1, part 1\n",
    "\n",
    "This lab assignment consists of several parts. You are supposed to make some transformations, train some models, estimate the quality of the models and explain your results.\n",
    "\n",
    "Several comments:\n",
    "* Don't hesitate to ask questions, it's a good practice.\n",
    "* No private/public sharing, please. The copied assignments will be graded with 0 points.\n",
    "* Blocks of this lab will be graded separately."
   ]
  },
  {
   "cell_type": "markdown",
   "metadata": {},
   "source": [
    "## 1. Matrix differentiation"
   ]
  },
  {
   "cell_type": "markdown",
   "metadata": {},
   "source": [
    "Since it easy to google every task please please please try to undestand what's going on. The \"just answer\" thing will be not counted, make sure to present derivation of your solution. It is absolutely OK if you found an answer on web then just exercise in $\\LaTeX$ copying it into here."
   ]
  },
  {
   "cell_type": "markdown",
   "metadata": {},
   "source": [
    "Useful links: \n",
    "[1](http://www.machinelearning.ru/wiki/images/2/2a/Matrix-Gauss.pdf)\n",
    "[2](http://www.atmos.washington.edu/~dennis/MatrixCalculus.pdf)"
   ]
  },
  {
   "cell_type": "markdown",
   "metadata": {},
   "source": [
    "## ex. 1"
   ]
  },
  {
   "cell_type": "markdown",
   "metadata": {},
   "source": [
    "$$  \n",
    "y = x^Tx,  \\quad x \\in \\mathbb{R}^N \n",
    "$$"
   ]
  },
  {
   "cell_type": "markdown",
   "metadata": {},
   "source": [
    "$$\n",
    "\\frac{dy}{dx} = 2x\n",
    "$$ "
   ]
  },
  {
   "cell_type": "markdown",
   "metadata": {
    "collapsed": true,
    "jupyter": {
     "outputs_hidden": true
    }
   },
   "source": [
    "$\\displaystyle \\text{Proof}:$\n",
    "\\begin{gather}\n",
    "dy = d(x^T x) = d(\\langle x, x \\rangle )\\\\\n",
    "= \\langle dx, x \\rangle + \\langle x, dx \\rangle \\\\\n",
    "= 2 \\langle x, dx \\rangle \\\\\n",
    "\\end{gather}"
   ]
  },
  {
   "cell_type": "markdown",
   "metadata": {},
   "source": [
    "## ex. 2"
   ]
  },
  {
   "cell_type": "markdown",
   "metadata": {},
   "source": [
    "$$ y = tr(AB) \\quad A,B \\in \\mathbb{R}^{N \\times N} $$ "
   ]
  },
  {
   "cell_type": "markdown",
   "metadata": {},
   "source": [
    "$$\n",
    "\\frac{dy}{dA} = B^T\n",
    "$$"
   ]
  },
  {
   "cell_type": "markdown",
   "metadata": {
    "collapsed": true,
    "jupyter": {
     "outputs_hidden": true
    }
   },
   "source": [
    "$\\displaystyle \\text{Proof}:$\n",
    "\n",
    "\\begin{gather}\n",
    "y = \\text{Tr}(AB) = \\langle I, AB \\rangle \\\\\n",
    "dy = \\langle I, d(A) B \\rangle \\\\\n",
    "= \\langle B^T, dA \\rangle\n",
    "\\end{gather}"
   ]
  },
  {
   "cell_type": "markdown",
   "metadata": {},
   "source": [
    "## ex. 3"
   ]
  },
  {
   "cell_type": "markdown",
   "metadata": {},
   "source": [
    "$$  \n",
    "y = x^TAc , \\quad A\\in \\mathbb{R}^{N \\times N}, x\\in \\mathbb{R}^{N}, c\\in \\mathbb{R}^{N} \n",
    "$$"
   ]
  },
  {
   "cell_type": "markdown",
   "metadata": {},
   "source": [
    "$$\n",
    "\\frac{dy}{dx} = Ac\n",
    "$$"
   ]
  },
  {
   "cell_type": "markdown",
   "metadata": {},
   "source": [
    "$$\n",
    "\\frac{dy}{dA} = x c^T\n",
    "$$ "
   ]
  },
  {
   "cell_type": "markdown",
   "metadata": {},
   "source": [
    "Hint for the latter (one of the ways): use *ex. 2* result and the fact \n",
    "$$\n",
    "tr(ABC) = tr (CAB)\n",
    "$$"
   ]
  },
  {
   "cell_type": "markdown",
   "metadata": {
    "collapsed": true,
    "jupyter": {
     "outputs_hidden": true
    }
   },
   "source": [
    "$\\displaystyle \\text{Proof}:$\n",
    "\n",
    "\\begin{gather}\n",
    "y = x^T A c = \\langle x, Ac \\rangle \\\\\n",
    "dy = \\langle dx, A c \\rangle = \\langle A c, dx \\rangle \\\\\n",
    "dy = \\langle x, d(A) c \\rangle = \\langle x c^T, dA \\rangle\n",
    "\\end{gather}"
   ]
  },
  {
   "cell_type": "markdown",
   "metadata": {},
   "source": [
    "## ex. 4"
   ]
  },
  {
   "cell_type": "markdown",
   "metadata": {},
   "source": [
    "Classic matrix factorization example. Given matrix $X$ you need to find $A$, $S$ to approximate $X$. This can be done by simple gradient descent iteratively alternating $A$ and $S$ updates.\n",
    "$$\n",
    "J = || X - AS ||_F^2  , \\quad A\\in \\mathbb{R}^{N \\times R} , \\quad S\\in \\mathbb{R}^{R \\times M}\n",
    "$$\n",
    "$$\n",
    "\\frac{dJ}{dS} = ? \n",
    "$$\n",
    "\n",
    "You may use one of the following approaches:"
   ]
  },
  {
   "cell_type": "markdown",
   "metadata": {},
   "source": [
    "#### First approach\n",
    "Using ex.2 and the fact:\n",
    "$$\n",
    "|| X ||_F^2 = tr(XX^T) \n",
    "$$ \n",
    "it is easy to derive gradients (you can find it in one of the refs). "
   ]
  },
  {
   "cell_type": "markdown",
   "metadata": {},
   "source": [
    "#### Second approach\n",
    "You can use *slightly different techniques* if they suits you. Take a look at this derivation:\n",
    "<img src=\"grad.png\">\n",
    "(excerpt from [Handbook of blind source separation, Jutten, page 517](https://books.google.ru/books?id=PTbj03bYH6kC&printsec=frontcover&dq=Handbook+of+Blind+Source+Separation&hl=en&sa=X&ved=0ahUKEwi-q_apiJDLAhULvXIKHVXJDWcQ6AEIHDAA#v=onepage&q=Handbook%20of%20Blind%20Source%20Separation&f=false), open for better picture)."
   ]
  },
  {
   "cell_type": "markdown",
   "metadata": {},
   "source": [
    "#### Third approach\n",
    "And finally we can use chain rule! \n",
    "let $ F = AS $ \n",
    "\n",
    "**Find**\n",
    "$$\n",
    "\\frac{dJ}{dF} = 2F - 2X\n",
    "$$ \n",
    "and \n",
    "$$\n",
    "\\frac{dF}{dS} =  \n",
    "$$ \n",
    "(the shape should be $ NM \\times RM )$.\n",
    "\n",
    "Now it is easy do get desired gradients:\n",
    "$$\n",
    "\\frac{dJ}{dS} = 2 A^T A S - 2 A^T X\n",
    "$$ "
   ]
  },
  {
   "cell_type": "markdown",
   "metadata": {},
   "source": [
    "$\\displaystyle \\text{Proof}:$\n",
    "\n",
    "\\begin{gather}\n",
    "J = \\| X - F \\|_F^2 = \\langle X - F, X - F \\rangle = \\langle X, X \\rangle - 2 \\langle F, X \\rangle + \\langle F, F \\rangle \\\\\n",
    "dJ = -2 \\langle X, dF \\rangle + 2 \\langle F, dF \\rangle = \\langle 2F - 2X, dF \\rangle\n",
    "\\end{gather}\n",
    "\n",
    "\\begin{gather}\n",
    "F = AS \\\\\n",
    "dF = A dS\n",
    "\\end{gather}\n",
    "\n",
    "\\begin{equation}\n",
    "dJ = \\langle 2AS - 2X, A dS \\rangle = \\langle A^T (2AS - 2X), dS \\rangle = \\langle 2 A^T A S - 2 A^T X, dS \\rangle  \n",
    "\\end{equation}"
   ]
  },
  {
   "cell_type": "markdown",
   "metadata": {
    "collapsed": true,
    "jupyter": {
     "outputs_hidden": true
    }
   },
   "source": [
    "## 2. kNN questions\n",
    "Here come the questions from the assignment0_01. Please, refer to the assignment0_01 to get the context of the questions."
   ]
  },
  {
   "cell_type": "markdown",
   "metadata": {},
   "source": [
    "### Question 1\n",
    "\n",
    "Notice the structured patterns in the distance matrix, where some rows or columns are visible brighter. (Note that with the default color scheme black indicates low distances while white indicates high distances.)\n",
    "\n",
    "- What in the data is the cause behind the distinctly bright rows?\n",
    "- What causes the columns?\n",
    "\n",
    "*Your Answer:*\n",
    "\n",
    "1) The rows contain distances from the test object to the train objects, so if the line is very white, this means that our test object is at a great distance from all the train objects. Therefore this is some kind of outlier element, it is either a strongly incorrect element, or a class element that did not come across or rarely came across in the training sample.\n",
    "\n",
    "2) This is an element of the training sample that is located deep inside its class, and therefore is very distant from others."
   ]
  },
  {
   "cell_type": "markdown",
   "metadata": {},
   "source": [
    "### Question 2\n",
    "\n",
    "We can also use other distance metrics such as L1 distance.\n",
    "For pixel values $p_{ij}^{(k)}$ at location $(i,j)$ of some image $I_k$, \n",
    "\n",
    "the mean $\\mu$ across all pixels over all images is $$\\mu=\\frac{1}{nhw}\\sum_{k=1}^n\\sum_{i=1}^{h}\\sum_{j=1}^{w}p_{ij}^{(k)}$$\n",
    "And the pixel-wise mean $\\mu_{ij}$ across all images is \n",
    "$$\\mu_{ij}=\\frac{1}{n}\\sum_{k=1}^np_{ij}^{(k)}.$$\n",
    "The general standard deviation $\\sigma$ and pixel-wise standard deviation $\\sigma_{ij}$ is defined similarly.\n",
    "\n",
    "Which of the following preprocessing steps will not change the performance of a Nearest Neighbor classifier that uses L1 distance? Select all that apply.\n",
    "1. Subtracting the mean $\\mu$ ($\\tilde{p}_{ij}^{(k)}=p_{ij}^{(k)}-\\mu$.)\n",
    "2. Subtracting the per pixel mean $\\mu_{ij}$  ($\\tilde{p}_{ij}^{(k)}=p_{ij}^{(k)}-\\mu_{ij}$.)\n",
    "3. Subtracting the mean $\\mu$ and dividing by the standard deviation $\\sigma$.\n",
    "4. Subtracting the pixel-wise mean $\\mu_{ij}$ and dividing by the pixel-wise standard deviation $\\sigma_{ij}$.\n",
    "5. Rotating the coordinate axes of the data.\n",
    "\n",
    "*Your Answer:* 1, 2, 3, 4\n",
    "\n",
    "\n",
    "*Your Explanation:*\n",
    "\n",
    "1) $$\\rho(\\tilde{p}^{(n)}, \\tilde{p}^{(m)}) = \\sum_{i=1}^{h}\\sum_{j=1}^{w} |\\tilde{p}_{ij}^{(n)} - \\tilde{p}_{ij}^{(m)}| = \\sum_{i=1}^{h}\\sum_{j=1}^{w} |p_{ij}^{(n)} - \\mu - p_{ij}^{(m)} + \\mu| = \\rho(p^{(n)}, p^{(m)}).$$\n",
    "\n",
    "2) $$\\rho(\\tilde{p}^{(n)}, \\tilde{p}^{(m)}) = \\sum_{i=1}^{h}\\sum_{j=1}^{w} |\\tilde{p}_{ij}^{(n)} - \\tilde{p}_{ij}^{(m)}| = \\sum_{i=1}^{h}\\sum_{j=1}^{w} |p_{ij}^{(n)} - \\mu_{ij} - p_{ij}^{(m)} + \\mu_{ij}| = \\rho(p^{(n)}, p^{(m)}).$$\n",
    "\n",
    "3) $$\\rho(\\tilde{p}^{(n)}, \\tilde{p}^{(m)}) = \\left| \\frac{p^{(n)} - \\mu}{\\sigma} -\\frac{p^{(m)} - \\mu}{\\sigma} \\right| = \\frac{1}{\\sigma} \\rho(p^{(n)}, p^{(m)}).$$\n",
    "\n",
    "This transformation reduces the distance between all points by $\\sigma$ times, but the order ratio between the points will not change and the same nearest neighbors will be selected as before the transformation.\n",
    "\n",
    "4) Subtracting the mean won't change anything, so we just need to check dividing by the pixel-wise standard deviation:\n",
    "\n",
    "The division of the vector by the pixel-wise standard deviation can be considered as a transformation by a diagonal matrix, where on the diagonal are $\\sigma_{ij}$. In addition, this matrix is invertible and $|\\tilde{x}| = |A x| \\leq |A| \\cdot |x|.$ \n",
    "\n",
    "Let x, y, z be such that |x - y| < |x - z|. Let's check whether this ratio will be preserved after the transformation:\n",
    "\n",
    "$$|\\tilde{x} - \\tilde{y}| \\leq |A| \\cdot |x - y| < |A| \\cdot |x - z| \\leq |A| \\cdot |A^{-1}| |\\tilde{x} - \\tilde{z}| = |\\tilde{x} - \\tilde{z}|.$$"
   ]
  },
  {
   "cell_type": "markdown",
   "metadata": {},
   "source": [
    "## Question 3\n",
    "\n",
    "Which of the following statements about $k$-Nearest Neighbor ($k$-NN) are true in a classification setting, and for all $k$? Select all that apply.\n",
    "1. The decision boundary (hyperplane between classes in feature space) of the k-NN classifier is linear.\n",
    "2. The training error of a 1-NN will always be lower than that of 5-NN.\n",
    "3. The test error of a 1-NN will always be lower than that of a 5-NN.\n",
    "4. The time needed to classify a test example with the k-NN classifier grows with the size of the training set.\n",
    "5. None of the above.\n",
    "\n",
    "*Your Answer:* 2, 4\n",
    "\n",
    "\n",
    "*Your Explanation:*\n",
    "\n",
    "2) 1-NN classification model will be way more overfitting than 5-NN model. This consequenly leads to better perfomance on training data and worse on test data.\n",
    "\n",
    "4. $k$-NN classifier calculates the distance from the current object to all of the training data samples during predict. \n",
    "\n",
    "\n"
   ]
  }
 ],
 "metadata": {
  "kernelspec": {
   "display_name": "mipt",
   "language": "python",
   "name": "mipt"
  },
  "language_info": {
   "codemirror_mode": {
    "name": "ipython",
    "version": 3
   },
   "file_extension": ".py",
   "mimetype": "text/x-python",
   "name": "python",
   "nbconvert_exporter": "python",
   "pygments_lexer": "ipython3",
   "version": "3.9.5"
  }
 },
 "nbformat": 4,
 "nbformat_minor": 4
}
